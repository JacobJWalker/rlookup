{
 "cells": [
  {
   "cell_type": "code",
   "execution_count": null,
   "metadata": {},
   "outputs": [],
   "source": [
    "#' rlookup - Reverse Lookup\n",
    "#'\n",
    "#' Performs a reverse lookup to find a unique identifier for data that has non-unique identifiers\n",
    "#' \n",
    "#' The rlookup function can help when data is collected about known entities (for example customers), but the data collected does not contain a unique\n",
    "#' identifier for the entity (for example customer survey data that does not contain the customer id).  If the data contains non-unique identifiers (for example first name, last name, age, and city), the rlookup function compares permutations of these non-unique identifiers with a lookup table (such as a customer database) to find unique matches between the two datasets. The rlookup function then adds the unique identifier (i.e. customer id) to the\n",
    "#' entities in the data that does not have the unique identifier (i.e. survey data), so that traditional data tools can connect the two data sources.\n",
    "#'\n",
    "#' Version: 0.1.0\n",
    "#' Author: Jacob J. Walker"
   ]
  },
  {
   "cell_type": "code",
   "execution_count": null,
   "metadata": {},
   "outputs": [],
   "source": [
    "# Initialize Packages  \n",
    "# Automatically installs packages that do not exist, and loads them also\n",
    "# When this is made as an actual package, it will need to be trimmed down to only load the truly necessary packages\n",
    "\n",
    "if (!require('tidyverse')) install.packages('tidyverse'); library('tidyverse')          # Loads dplyr, and all the other parts of tidyverse\n",
    "if (!require('available')) install.packages('available'); library('available')          # Used to see if a package name is available"
   ]
  },
  {
   "cell_type": "code",
   "execution_count": null,
   "metadata": {},
   "outputs": [],
   "source": [
    "# Features to be added (product backlog)\n",
    "# --------------------------------------\n",
    "# Add uid field to tbl_missing_uid if it doesn't have the field already\n",
    "# Have parameter to choose whether to return all rows from the original tbl_missing_uid, or only those with uids that were found, or uids still missing\n",
    "# Have the capability to do more permutations than just pairs of nuids\n",
    "# Increase the efficiency of the code, so that it can run quicker over big data sets"
   ]
  },
  {
   "cell_type": "code",
   "execution_count": null,
   "metadata": {},
   "outputs": [],
   "source": [
    "# Defines rlookup function\n",
    "rlookup <- function(tbl_missing_uid, lookup_tbl, uid = NULL, nuids = NULL) {\n",
    "    \n",
    "    # Set the uid list for for tbl_missing_uid (x) and lookup_tbl (y) based upon what the user entered, or a shared column name if no value entered\n",
    "    uid <- common_by(by = uid, tbl_missing_uid, lookup_tbl)\n",
    "    \n",
    "    # Set the nuids list for tbl_missing_uid (x) and lookup_tbl (y) based upon what the user entered, or shared column names if no value entered\n",
    "    nuids <- common_by(by = nuids, tbl_missing_uid, lookup_tbl)\n",
    "    \n",
    "    # Reverses the order of the nuid columns to prioritize the first elements in the final lookup\n",
    "    nuids$x <- rev(nuids$x)\n",
    "    nuids$y <- rev(nuids$y)\n",
    "    \n",
    "    # Adds uid field to tbl_missing_uid if it doesn't have the field already\n",
    "    ## Add Code Here\n",
    "    \n",
    "    # Makes a copy of the table that is missing a unique identifier column\n",
    "    result <- tbl_missing_uid\n",
    "    \n",
    "    # Clears the uid field in the target\n",
    "    result %>% mutate(!!sym(uid$y[[1]]) := eval(NA)) -> result\n",
    "    \n",
    "    # Loops through the tbl_missing_uid to see if any pairs of nuids have a unique match in the lookup_tbl\n",
    "    for (result_row in 1:nrow(result)) {\n",
    "        for (nuid_column_1 in 1:length(nuids$x)) {\n",
    "            for (nuid_column_2 in nuid_column_1:length(nuids$x)) {\n",
    "                if (nuid_column_1 != nuid_column_2) {\n",
    "                    if(nrow(filter(lookup_tbl, \n",
    "                                !!sym(nuids$y[nuid_column_1]) == result[[result_row,!!nuids$x[nuid_column_1]]], \n",
    "                                !!sym(nuids$y[nuid_column_2]) == result[[result_row,!!nuids$x[nuid_column_2]]]))==1) {\n",
    "                        result[result_row, {{uid$x[[1]]}}] <- filter(lookup_tbl, \n",
    "                                !!sym(nuids$y[nuid_column_1]) == result[[result_row,!!nuids$x[nuid_column_1]]], \n",
    "                                !!sym(nuids$y[nuid_column_2]) == result[[result_row,!!nuids$x[nuid_column_2]]])[[{{uid$y[[1]]}}]]\n",
    "                    }\n",
    "                }\n",
    "            }\n",
    "        }\n",
    "    }\n",
    "    \n",
    "    # Returns the result table\n",
    "    result\n",
    "}"
   ]
  },
  {
   "cell_type": "code",
   "execution_count": null,
   "metadata": {},
   "outputs": [],
   "source": [
    "# Load example tbl_missing_uid\n",
    "tbl_missing_uid <- tibble(id = \"\", \n",
    "                         first_name =  c(\"Barack\",     \"George\",     \"Bill\",       \"George\",     \"Ronald\",     \"Jimmy\"     ),\n",
    "                         middle_name = c(\"Hussein\",    \"Walker\",     \"\",           \"H.W.\",       \"Wilson\",     \"\"          ),\n",
    "                         last_name  =  c(\"Obama\",      \"Bush\",       \"Clinton\",    \"Bush\",       \"Reagon\",     \"Carter\"    ),\n",
    "                         dob = as.Date(c(\"1961-08-04\", \"1946-07-06\", \"1946-08-19\", \"1924-06-12\", \"1911-02-06\", \"1924-10-01\")))\n",
    "\n",
    "# Load example lookup_tbl\n",
    "lookup_tbl <-   tibble(num = c(44, 43, 42, 41, 40, 39),\n",
    "                       fname = c(\"Barack\",     \"George\",     \"William\",       \"George\",               \"Ronald\",     \"James\"     ),\n",
    "                       mname = c(\"Hussein\",    \"Walker\",     \"Jefferson\",     \"Herbert Walker\",       \"Wilson\",     \"Earl\"      ),\n",
    "                       lname = c(\"Obama\",      \"Bush\",       \"Clinton\",       \"Bush\",                 \"Reagon\",     \"Carter\"    ),\n",
    "               bdate = as.Date(c(\"1961-08-04\", \"1946-07-06\", \"1946-08-19\",    \"1924-06-12\",           \"1911-02-06\", \"1924-10-01\")))"
   ]
  },
  {
   "cell_type": "code",
   "execution_count": null,
   "metadata": {},
   "outputs": [],
   "source": [
    "result <- rlookup(tbl_missing_uid, lookup_tbl, uid = c(\"id\" = \"num\"), \n",
    "                  nuids = c(            \"first_name\" = \"fname\", \n",
    "                                        \"middle_name\" = \"mname\", \n",
    "                                        \"last_name\" = \"lname\",\n",
    "                                        \"dob\" = \"bdate\"))"
   ]
  },
  {
   "cell_type": "code",
   "execution_count": null,
   "metadata": {},
   "outputs": [],
   "source": [
    "result"
   ]
  }
 ],
 "metadata": {
  "kernelspec": {
   "display_name": "R",
   "language": "R",
   "name": "ir"
  },
  "language_info": {
   "codemirror_mode": "r",
   "file_extension": ".r",
   "mimetype": "text/x-r-source",
   "name": "R",
   "pygments_lexer": "r",
   "version": "3.6.1"
  }
 },
 "nbformat": 4,
 "nbformat_minor": 4
}
