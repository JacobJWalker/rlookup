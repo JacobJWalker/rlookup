{
 "cells": [
  {
   "cell_type": "code",
   "execution_count": null,
   "metadata": {},
   "outputs": [],
   "source": [
    "#' rlookup - Reverse ID Lookup\n",
    "#'\n",
    "#' Looks up a unique identifier for an entity from an authoritative source \n",
    "#' by using multiple non-unique and/or partially unreliable individual identifiers\n",
    "#'\n",
    "#' Author: Jacob J. Walker\n",
    "#'\n",
    "#' Note: Currently this is a linear script, but it will be changed into a function in the future to be released as an R Package\n",
    "#' Also, it is very likely that this could be done much more efficiently, but this works for now"
   ]
  },
  {
   "cell_type": "code",
   "execution_count": null,
   "metadata": {},
   "outputs": [],
   "source": [
    "# Initialize Packages  \n",
    "# Automatically installs packages that do not exist, and loads them also\n",
    "# When this is made as an actual package, it will need to be trimmed down to only load the truly necessary packages\n",
    "\n",
    "if (!require('tidyverse')) install.packages('tidyverse'); library('tidyverse')          # Loads dplyr, and all the other parts of tidyverse"
   ]
  },
  {
   "cell_type": "code",
   "execution_count": null,
   "metadata": {},
   "outputs": [],
   "source": [
    "# Variables/Objects\n",
    "#\n",
    "# Data Frames / Tibbles\n",
    "# ---------------------\n",
    "# source - Source file which needs the unique identifier\n",
    "# target - Target file where transformed source file will be saved\n",
    "# lookup_table - table of unique identifiers and other identifiers\n",
    "#\n",
    "# Columns (Use with !! and := notation for tibbles)\n",
    "# -------\n",
    "# target_uid_column - name of the column that will contain the unique identifier in the target\n",
    "# lookup_uid_column - name of hte column that contains the unique identifier in the lookup_table\n",
    "# source_nuid_columns - vector of names of the columns that will be used in combination to do the reverse lookup from the source\n",
    "# lookup_nuid_columns - vector of names of the columuns that will be used in combination to do the reverse lookup from the lookup_table"
   ]
  },
  {
   "cell_type": "code",
   "execution_count": null,
   "metadata": {},
   "outputs": [],
   "source": [
    "# Load lookup_table\n",
    "\n",
    "lookup_table <- tibble(num = c(44, 43, 42, 41, 40, 39),\n",
    "                       fname = c(\"Barack\",     \"George\",     \"William\",       \"George\",               \"Ronald\",     \"James\"     ),\n",
    "                       mname = c(\"Hussein\",    \"Walker\",     \"Jefferson\",     \"Herbert Walker\",       \"Wilson\",     \"Earl\"      ),\n",
    "                       lname = c(\"Obama\",      \"Bush\",       \"Clinton\",       \"Bush\",                 \"Reagon\",     \"Carter\"    ),\n",
    "               bdate = as.Date(c(\"1961-08-04\", \"1946-07-06\", \"1946-08-19\",    \"1924-06-12\",           \"1911-02-06\", \"1924-10-01\")))\n",
    "\n",
    "# Set Lookup ID Column Names\n",
    "lookup_uid_column <- \"num\"\n",
    "lookup_nuid_columns <- c(\"fname\",      \"mname\",       \"lname\",     \"bdate\")"
   ]
  },
  {
   "cell_type": "code",
   "execution_count": null,
   "metadata": {},
   "outputs": [],
   "source": [
    "# Load source data\n",
    "\n",
    "source <- tibble(id = \"\", \n",
    "                 first_name =  c(\"Barack\",     \"George\",     \"Bill\",       \"George\",     \"Ronald\",     \"Jimmy\"     ),\n",
    "                 middle_name = c(\"Hussein\",    \"Walker\",     \"\",           \"H.W.\",       \"Wilson\",     \"\"          ),\n",
    "                 last_name  =  c(\"Obama\",      \"Bush\",       \"Clinton\",    \"Bush\",       \"Reagon\",     \"Carter\"    ),\n",
    "                 dob = as.Date(c(\"1961-08-04\", \"1946-07-06\", \"1946-08-19\", \"1924-06-12\", \"1911-02-06\", \"1924-10-01\")))\n",
    "\n",
    "# Set Source (and Target) ID Columns names\n",
    "target_uid_column <- \"id\"\n",
    "source_nuid_columns <- c(\"first_name\", \"middle_name\", \"last_name\", \"dob\"  )"
   ]
  },
  {
   "cell_type": "code",
   "execution_count": null,
   "metadata": {},
   "outputs": [],
   "source": [
    "# Makes a copy of the source table as the target\n",
    "target <- source\n",
    "\n",
    "# Reverses the order of the nuid columns to prioritize the first elements in the final lookup\n",
    "source_nuid_columns <- rev(source_nuid_columns)\n",
    "lookup_nuid_columns <- rev(lookup_nuid_columns)\n",
    "\n",
    "# Clears the uid field in the target\n",
    "target %>% mutate(!!sym(target_uid_column) := eval(NA)) -> target\n",
    "\n",
    "# Transform nuid fields to lower case, and date in source for comparisons (if needed)"
   ]
  },
  {
   "cell_type": "code",
   "execution_count": null,
   "metadata": {},
   "outputs": [],
   "source": [
    "for (target_row in 1:nrow(target)) {\n",
    "    for (nuid_column_1 in 1:length(source_nuid_columns)) {\n",
    "        for (nuid_column_2 in nuid_column_1:length(source_nuid_columns)) {\n",
    "            if (nuid_column_1 != nuid_column_2) {\n",
    "                if(nrow(filter(lookup_table, \n",
    "                            !!sym(lookup_nuid_columns[nuid_column_1]) == target[[target_row,!!source_nuid_columns[nuid_column_1]]], \n",
    "                            !!sym(lookup_nuid_columns[nuid_column_2]) == target[[target_row,!!source_nuid_columns[nuid_column_2]]]))==1) {\n",
    "                    target[target_row, {{target_uid_column}}] <- filter(lookup_table, \n",
    "                            !!sym(lookup_nuid_columns[nuid_column_1]) == target[[target_row,!!source_nuid_columns[nuid_column_1]]], \n",
    "                            !!sym(lookup_nuid_columns[nuid_column_2]) == target[[target_row,!!source_nuid_columns[nuid_column_2]]])[[{{lookup_uid_column}}]]\n",
    "                }\n",
    "            }\n",
    "        }\n",
    "    }\n",
    "}"
   ]
  },
  {
   "cell_type": "code",
   "execution_count": null,
   "metadata": {},
   "outputs": [],
   "source": [
    "target"
   ]
  },
  {
   "cell_type": "code",
   "execution_count": null,
   "metadata": {},
   "outputs": [],
   "source": []
  }
 ],
 "metadata": {
  "kernelspec": {
   "display_name": "R",
   "language": "R",
   "name": "ir"
  },
  "language_info": {
   "codemirror_mode": "r",
   "file_extension": ".r",
   "mimetype": "text/x-r-source",
   "name": "R",
   "pygments_lexer": "r",
   "version": "3.6.1"
  }
 },
 "nbformat": 4,
 "nbformat_minor": 4
}
