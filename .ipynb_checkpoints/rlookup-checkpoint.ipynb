{
 "cells": [
  {
   "cell_type": "code",
   "execution_count": 1,
   "metadata": {},
   "outputs": [],
   "source": [
    "#' Reverse ID Lookup\n",
    "#'\n",
    "#' Looks up a unique identifier for an entity from an authoritative source \n",
    "#' by using multiple non-unique and/or partially unreliable individual identifiers\n",
    "#'\n",
    "#' Author: Jacob J. Walker\n",
    "#'\n",
    "#' Note: Currently this is a linear script, but it will be changed into a function in the future to be released as an R Package\n",
    "#' Also, it is very likely that this could be done much more efficiently, but this works for now"
   ]
  },
  {
   "cell_type": "code",
   "execution_count": 2,
   "metadata": {},
   "outputs": [
    {
     "name": "stderr",
     "output_type": "stream",
     "text": [
      "Loading required package: RSelenium\n",
      "Loading required package: keyring\n",
      "Loading required package: tidyverse\n",
      "-- Attaching packages --------------------------------------- tidyverse 1.3.0 --\n",
      "v ggplot2 3.2.1     v purrr   0.3.3\n",
      "v tibble  2.1.3     v dplyr   0.8.3\n",
      "v tidyr   1.0.0     v stringr 1.4.0\n",
      "v readr   1.3.1     v forcats 0.4.0\n",
      "-- Conflicts ------------------------------------------ tidyverse_conflicts() --\n",
      "x dplyr::filter() masks stats::filter()\n",
      "x dplyr::lag()    masks stats::lag()\n",
      "Loading required package: lubridate\n",
      "\n",
      "Attaching package: 'lubridate'\n",
      "\n",
      "The following object is masked from 'package:base':\n",
      "\n",
      "    date\n",
      "\n",
      "Loading required package: batman\n",
      "Loading required package: stringi\n",
      "Loading required package: xlsx\n",
      "Loading required package: XML\n",
      "Loading required package: urltools\n",
      "Loading required package: odbc\n"
     ]
    }
   ],
   "source": [
    "# Initialize Packages                                                                                   # Code Block Info: 2019-09-17 From Template\n",
    "# Automatically installs packages that do not exist, and loads them also\n",
    "# Note: Pacman is no longer used, because it sometimes didn't work right\n",
    "\n",
    "if (!require('RSelenium')) install.packages('RSelenium'); library('RSelenium')          # Selenium Web Browser Automation Framework\n",
    "if (!require('keyring')) install.packages('keyring'); library('keyring')                # Used to load passwords from the system instead of being in plain text\n",
    "if (!require('tidyverse')) install.packages('tidyverse'); library('tidyverse')          # Loads dplyr, and all the other parts of tidyverse\n",
    "if (!require('lubridate')) install.packages('lubridate'); library('lubridate')          # Explicitly loaded from tidyverse to be used in place of the Base date functions, where appropriate\n",
    "if (!require('batman')) install.packages('batman'); library('batman')                   # Includes the to_logical function, which is very useful for ETL work on Booleanesq columns\n",
    "if (!require('stringi')) install.packages('stringi'); library('stringi')                # Includes some string replacement functions that are easier than tidyverse\n",
    "if (!require('xlsx')) install.packages('xlsx'); library('xlsx')                         # Used to work with Excel files, but there is some type of error happening with Java at the moment\n",
    "if (!require('XML')) install.packages('XML'); library('XML')                            # Used for web scraping HTML, especially tables\n",
    "if (!require('urltools')) install.packages('urltools'); library('urltools')             # Used for parsing URLs\n",
    "# if (!require('RPostgres')) install.packages('RPostgres'); library('RPostgres')          # A DBI Compliant Interface for PostgreSQL\n",
    "if (!require('odbc')) install.packages('odbc'); library('odbc')                         # A DBI Interface for ODBC (Used for MS SQL)"
   ]
  },
  {
   "cell_type": "code",
   "execution_count": 3,
   "metadata": {},
   "outputs": [],
   "source": [
    "# Variables/Objects\n",
    "#\n",
    "# Data Frames / Tibbles\n",
    "# ---------------------\n",
    "# source - Source file which needs the unique identifier\n",
    "# target - Target file where transformed source file will be saved\n",
    "# lookup_table - table of unique identifiers and other identifiers\n",
    "#\n",
    "# Columns (Use with !! and := notation for tibbles)\n",
    "# -------\n",
    "# target_uid_column - name of the column that will contain the unique identifier in the target\n",
    "# lookup_uid_column - name of hte column that contains the unique identifier in the lookup_table\n",
    "# source_nuid_columns - vector of names of the columns that will be used in combination to do the reverse lookup from the source\n",
    "# lookup_nuid_columns - vector of names of the columuns that will be used in combination to do the reverse lookup from the lookup_table"
   ]
  },
  {
   "cell_type": "code",
   "execution_count": 4,
   "metadata": {},
   "outputs": [],
   "source": [
    "# Load source and lookup_table, including lookup column names\n",
    "\n",
    "source <- tibble(id = \"\", \n",
    "                 first_name =  c(\"Barack\",     \"George\",     \"Bill\",       \"George\",     \"Ronald\",     \"Jimmy\"     ),\n",
    "                 middle_name = c(\"Hussein\",    \"Walker\",     \"\",           \"H.W.\",       \"Wilson\",     \"\"          ),\n",
    "                 last_name  =  c(\"Obama\",      \"Bush\",       \"Clinton\",    \"Bush\",       \"Reagon\",     \"Carter\"    ),\n",
    "                 dob = as.Date(c(\"1961-08-04\", \"1946-07-06\", \"1946-08-19\", \"1924-06-12\", \"1911-02-06\", \"1924-10-01\")))\n",
    "\n",
    "lookup_table <- tibble(num = c(44, 43, 42, 41, 40, 39),\n",
    "                       fname = c(\"Barack\",     \"George\",     \"William\",       \"George\",               \"Ronald\",     \"James\"     ),\n",
    "                       mname = c(\"Hussein\",    \"Walker\",     \"Jefferson\",     \"Herbert Walker\",       \"Wilson\",     \"Earl\"      ),\n",
    "                       lname = c(\"Obama\",      \"Bush\",       \"Clinton\",       \"Bush\",                 \"Reagon\",     \"Carter\"    ),\n",
    "               bdate = as.Date(c(\"1961-08-04\", \"1946-07-06\", \"1946-08-19\",    \"1924-06-12\",           \"1911-02-06\", \"1924-10-01\")))\n",
    "\n",
    "target_uid_column <- \"id\"\n",
    "lookup_uid_column <- \"num\"\n",
    "\n",
    "source_nuid_columns <- c(\"first_name\", \"middle_name\", \"last_name\", \"dob\"  )\n",
    "lookup_nuid_columns <- c(\"fname\",      \"mname\",       \"lname\",     \"bdate\")"
   ]
  },
  {
   "cell_type": "code",
   "execution_count": 5,
   "metadata": {},
   "outputs": [],
   "source": [
    "target <- source\n",
    "\n",
    "# Reverses the order of the nuid columns to prioritize the first elements in the final lookup\n",
    "source_nuid_columns <- rev(source_nuid_columns)\n",
    "lookup_nuid_columns <- rev(lookup_nuid_columns)"
   ]
  },
  {
   "cell_type": "code",
   "execution_count": 6,
   "metadata": {},
   "outputs": [
    {
     "ename": "ERROR",
     "evalue": "Error: `arg` must be a symbol\n",
     "output_type": "error",
     "traceback": [
      "Error: `arg` must be a symbol\nTraceback:\n",
      "1. nrow(filter(lookup_table, !!sym(lookup_nuid_columns[nuid_column_1]) == \n .     target[[target_row, {\n .         {\n .             source_nuid_columns[nuid_column_1]\n .         }\n .     }]], !!sym(lookup_nuid_columns[nuid_column_2]) == target[[target_row, \n .     {\n .         {\n .             source_nuid_columns[nuid_column_2]\n .         }\n .     }]]))",
      "2. filter(lookup_table, !!sym(lookup_nuid_columns[nuid_column_1]) == \n .     target[[target_row, {\n .         {\n .             source_nuid_columns[nuid_column_1]\n .         }\n .     }]], !!sym(lookup_nuid_columns[nuid_column_2]) == target[[target_row, \n .     {\n .         {\n .             source_nuid_columns[nuid_column_2]\n .         }\n .     }]])",
      "3. filter.tbl_df(lookup_table, !!sym(lookup_nuid_columns[nuid_column_1]) == \n .     target[[target_row, {\n .         {\n .             source_nuid_columns[nuid_column_1]\n .         }\n .     }]], !!sym(lookup_nuid_columns[nuid_column_2]) == target[[target_row, \n .     {\n .         {\n .             source_nuid_columns[nuid_column_2]\n .         }\n .     }]])",
      "4. enquos(...)",
      "5. endots(call = sys.call(), frame_env = parent.frame(), capture_arg = rlang_enquo, \n .     capture_dots = rlang_quos_interp, named = .named, ignore_empty = .ignore_empty, \n .     unquote_names = .unquote_names, homonyms = .homonyms, check_assign = .check_assign)",
      "6. map(syms, function(sym) {\n .     if (!is_symbol(sym)) {\n .         abort(\"Inputs to capture must be argument names\")\n .     }\n .     if (identical(sym, dots_sym)) {\n .         splice_dots <<- TRUE\n .         splice(dot_call(capture_dots, frame_env = frame_env, \n .             named = named, ignore_empty = ignore_empty, unquote_names = unquote_names, \n .             homonyms = homonyms, check_assign = check_assign))\n .     }\n .     else {\n .         dot_call(capture_arg, sym, frame_env)\n .     }\n . })",
      "7. lapply(.x, .f, ...)",
      "8. FUN(X[[i]], ...)",
      "9. splice(dot_call(capture_dots, frame_env = frame_env, named = named, \n .     ignore_empty = ignore_empty, unquote_names = unquote_names, \n .     homonyms = homonyms, check_assign = check_assign))",
      "10. rlang::abort(x)",
      "11. signal_abort(cnd)"
     ]
    }
   ],
   "source": [
    "for (target_row in 1:nrow(target)) {\n",
    "    for (nuid_column_1 in 1:length(source_nuid_columns)) {\n",
    "        for (nuid_column_2 in nuid_column_1:length(source_nuid_columns)) {\n",
    "            if (nuid_column_1 != nuid_column_2) {\n",
    "                if(nrow(filter(lookup_table, \n",
    "                            !!sym(lookup_nuid_columns[nuid_column_1]) == target[[target_row,{{source_nuid_columns[nuid_column_1]}}]], \n",
    "                            !!sym(lookup_nuid_columns[nuid_column_2]) == target[[target_row,{{source_nuid_columns[nuid_column_2]}}]]))==1) {\n",
    "                    target[target_row, {{target_uid_column}}] <- filter(lookup_table, \n",
    "                            !!sym(lookup_nuid_columns[nuid_column_1]) == target[[target_row,{{source_nuid_columns[nuid_column_1]}}]], \n",
    "                            !!sym(lookup_nuid_columns[nuid_column_2]) == target[[target_row,{{source_nuid_columns[nuid_column_2]}}]])[[{{lookup_uid_column}}]]\n",
    "                }\n",
    "            }\n",
    "        }\n",
    "    }\n",
    "}"
   ]
  },
  {
   "cell_type": "code",
   "execution_count": null,
   "metadata": {},
   "outputs": [],
   "source": [
    "target"
   ]
  },
  {
   "cell_type": "code",
   "execution_count": null,
   "metadata": {},
   "outputs": [],
   "source": [
    "sessionInfo()"
   ]
  },
  {
   "cell_type": "code",
   "execution_count": null,
   "metadata": {},
   "outputs": [],
   "source": []
  }
 ],
 "metadata": {
  "kernelspec": {
   "display_name": "R",
   "language": "R",
   "name": "ir"
  },
  "language_info": {
   "codemirror_mode": "r",
   "file_extension": ".r",
   "mimetype": "text/x-r-source",
   "name": "R",
   "pygments_lexer": "r",
   "version": "3.6.1"
  }
 },
 "nbformat": 4,
 "nbformat_minor": 4
}
